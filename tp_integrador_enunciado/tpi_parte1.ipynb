{
  "cells": [
    {
      "attachments": {},
      "cell_type": "markdown",
      "id": "07289bb0",
      "metadata": {},
      "source": [
        "# Trabajo integrador - Parte 1\n",
        "## Python y Numpy\n",
        "\n",
        "**Nombre**: Javier Cambiasso"
      ]
    },
    {
      "cell_type": "code",
      "execution_count": 2,
      "id": "aaf94e0a",
      "metadata": {
        "id": "aaf94e0a"
      },
      "outputs": [],
      "source": [
        "import numpy as np\n",
        "import pandas as pd"
      ]
    },
    {
      "attachments": {},
      "cell_type": "markdown",
      "id": "0ffe9554",
      "metadata": {},
      "source": [
        "## Ejercicio 1\n",
        "\n",
        "Dada una matriz en formato *numpy array*, donde cada fila de la matriz representa un vector matemático, se requiere computar las normas $l_0$, $l_1$, $l_2$, $l_{\\infty}$, según la siguientes definiciones:\n",
        "\n",
        "\\begin{equation}\n",
        "    ||\\mathbf{x}||^{p} = \\bigg(\\sum_{j=1}^{n}{|x_i|^p}\\bigg)^{\\frac{1}{p}}\n",
        "\\end{equation}\n",
        "\n",
        "con los casos especiales para $p=0$ y $p=\\infty$ siendo:\n",
        "\n",
        "\\begin{equation}\n",
        "    \\begin{array}{rcl}\n",
        "        ||\\mathbf{x}||_0 & = & \\bigg(\\sum_{j=1 \\wedge x_j != 0}{|x_i|}\\bigg)\\\\\n",
        "        ||\\mathbf{x}||_{\\infty} & = & \\max_{i}{|x_i|}\\\\\n",
        "    \\end{array}\n",
        "\\end{equation}"
      ]
    },
    {
      "cell_type": "code",
      "execution_count": 3,
      "id": "0bdb0ee3",
      "metadata": {},
      "outputs": [
        {
          "name": "stdout",
          "output_type": "stream",
          "text": [
            "[2 2 2]\n",
            "[2.00019523 4.02197415 6.09050607]\n",
            "[2 4 6]\n"
          ]
        }
      ],
      "source": [
        "def norm(arr,p):\n",
        "    if p==0:\n",
        "        return np.count_nonzero(arr,axis=-1)\n",
        "    elif p==float('inf'):\n",
        "        return np.max(np.abs(arr),axis=-1)\n",
        "    else:\n",
        "        return (np.sum(np.power(np.abs(arr),p),axis=-1))**(1/p)\n",
        "\n",
        "test_array=np.array([[1,2],[3,4],[5,6]])\n",
        "print(norm(test_array,0))\n",
        "print(norm(test_array,10))\n",
        "print(norm(test_array,float('inf')))"
      ]
    },
    {
      "attachments": {},
      "cell_type": "markdown",
      "id": "dd66d862",
      "metadata": {},
      "source": [
        "## Ejercicio 2\n",
        "\n",
        "En clasificación contamos con dos arreglos, la “verdad” y la “predicción”. Cada elemento de los arreglos pueden tomar dos valores, “True” (representado por 1) y “False” (representado por 0). Entonces podemos definir 4 variables:\n",
        "\n",
        "* True Positive (TP): El valor verdadero es 1 y el valor predicho es 1\n",
        "* True Negative (TN): El valor verdadero es 0 y el valor predicho es 0\n",
        "* False Positive (FP): El valor verdadero es 0 y el valor predicho es 1\n",
        "* False Negative (FN): El valor verdadero es 1 y el valor predicho es 0\n",
        "\n",
        "A partir de esto definimos:\n",
        "\n",
        "* Precision = TP / (TP + FP)\n",
        "* Recall = TP / (TP + FN)\n",
        "* Accuracy = (TP + TN) / (TP + TN + FP + FN)\n",
        " \n",
        "Calcular las 3 métricas con Numpy y operaciones vectorizadas."
      ]
    },
    {
      "cell_type": "code",
      "execution_count": 12,
      "id": "794dcd58",
      "metadata": {},
      "outputs": [
        {
          "data": {
            "text/html": [
              "<div>\n",
              "<style scoped>\n",
              "    .dataframe tbody tr th:only-of-type {\n",
              "        vertical-align: middle;\n",
              "    }\n",
              "\n",
              "    .dataframe tbody tr th {\n",
              "        vertical-align: top;\n",
              "    }\n",
              "\n",
              "    .dataframe thead th {\n",
              "        text-align: right;\n",
              "    }\n",
              "</style>\n",
              "<table border=\"1\" class=\"dataframe\">\n",
              "  <thead>\n",
              "    <tr style=\"text-align: right;\">\n",
              "      <th></th>\n",
              "      <th>Precision</th>\n",
              "      <th>Recall</th>\n",
              "      <th>Accuracy</th>\n",
              "    </tr>\n",
              "  </thead>\n",
              "  <tbody>\n",
              "    <tr>\n",
              "      <th>0</th>\n",
              "      <td>0.5</td>\n",
              "      <td>0.5</td>\n",
              "      <td>0.4</td>\n",
              "    </tr>\n",
              "  </tbody>\n",
              "</table>\n",
              "</div>"
            ],
            "text/plain": [
              "   Precision  Recall  Accuracy\n",
              "0        0.5     0.5       0.4"
            ]
          },
          "execution_count": 12,
          "metadata": {},
          "output_type": "execute_result"
        }
      ],
      "source": [
        "truth = np.array([1,1,0,1,1,1,0,0,0,1])\n",
        "prediction = np.array([1,1,1,1,0,0,1,1,0,0])\n",
        "\n",
        "FN = np.count_nonzero(truth > prediction)\n",
        "FP = np.count_nonzero(prediction > truth)\n",
        "TP = np.count_nonzero(np.logical_and(prediction,truth))\n",
        "TN = np.count_nonzero(np.logical_not(np.logical_or(prediction,truth)))\n",
        "\n",
        "precision = TP/(TP+FP)\n",
        "recall = TP / (TP + FN)\n",
        "accuracy = (TP + TN)/(TP + TN + FP + FN)\n",
        "\n",
        "pd.DataFrame(data={'Precision':precision,'Recall':recall,'Accuracy':accuracy},index=[0])\n"
      ]
    },
    {
      "attachments": {},
      "cell_type": "markdown",
      "id": "d0ac6f6f",
      "metadata": {},
      "source": [
        "## Ejercicio 3\n",
        "\n",
        "Crear una función que separe los datos en train-validation-test. Debe recibir de parametros:\n",
        "\n",
        "- X: Array o Dataframe que contiene los datos de entrada del sistema.\n",
        "- y: Array o Dataframe que contiene la(s) variable(s) target del problema.\n",
        "- train_percentage: _float_ el porcentaje de training.\n",
        "- test_percentage: _float_ el porcentaje de testing.\n",
        "- val_percentage: _float_ el porcentaje de validación.\n",
        "- shuffle: _bool_ determina si el split debe hacerse de manera random o no.\n",
        "\n",
        "Hints: \n",
        "\n",
        "* Usar Indexing y slicing\n",
        "* Usar np.random.[...]"
      ]
    },
    {
      "cell_type": "code",
      "execution_count": 10,
      "id": "ca85fc66",
      "metadata": {},
      "outputs": [
        {
          "name": "stdout",
          "output_type": "stream",
          "text": [
            "(105, 4) (22, 4) (23, 4)\n",
            "[[6.6 2.9 4.6 1.3]\n",
            " [7.2 3.  5.8 1.6]\n",
            " [6.  2.9 4.5 1.5]\n",
            " [7.2 3.6 6.1 2.5]\n",
            " [7.  3.2 4.7 1.4]]\n",
            "[['versicolor']\n",
            " ['virginica']\n",
            " ['versicolor']\n",
            " ['virginica']\n",
            " ['versicolor']]\n"
          ]
        }
      ],
      "source": [
        "import math\n",
        "from sklearn.datasets import load_iris\n",
        "\n",
        "def split(X_input,\n",
        "          Y_input,\n",
        "          train_size=0.7,\n",
        "          val_size=0.15,\n",
        "          test_size=0.15,\n",
        "          random_state=42,\n",
        "          shuffle=True):\n",
        "\n",
        "    if type(X_input)=='pandas.core.frame.DataFrame':\n",
        "      X_input = X_input.values\n",
        "\n",
        "    if type(Y_input)=='pandas.core.frame.DataFrame':\n",
        "       Y_input = Y_input.values\n",
        "\n",
        "    if X_input.shape[0] != Y_input.shape[0]: raise TypeError('Dimension 0 for X_input and Y_input must be equal')\n",
        "    if train_size + val_size + test_size != 1.0: raise ArithmeticError('Sum of train, validation and test ratios must be equal to 1')\n",
        "    if shuffle:\n",
        "      rnd = np.random.default_rng(random_state)\n",
        "      p = rnd.permutation(X_input.shape[0])\n",
        "      X_input = X_input[p]\n",
        "      Y_input = Y_input[p]\n",
        "    \n",
        "    train_samples = math.floor(X_input.shape[0]*train_size)\n",
        "    test_samples = math.floor((X_input.shape[0] - train_samples)*(test_size/(1-train_size)))\n",
        "    \n",
        "    split_x = np.split(X_input,np.array([0,test_samples])+train_samples,axis=0)\n",
        "    split_y = np.split(Y_input,np.array([0,test_samples])+train_samples,axis=0)\n",
        "\n",
        "    X_train = split_x[0]\n",
        "    Y_train = split_y[0]\n",
        "    X_test = split_x[1]\n",
        "    Y_test = split_y[1]\n",
        "    X_val= split_x[2]\n",
        "    Y_val = split_y[2]\n",
        "\n",
        "    return X_train, Y_train, X_test, Y_test, X_val, Y_val\n",
        "\n",
        "def get_iris_dataset():\n",
        "  data = load_iris()\n",
        "  X_full = data.data\n",
        "  y_full = np.array([data.target_names[y] for y in data.target.reshape(-1,1)])\n",
        "  return X_full, y_full\n",
        "\n",
        "X,Y = get_iris_dataset()\n",
        "X_train, Y_train, X_test, Y_test, X_val, Y_val = split(X,Y,random_state=12)\n",
        "print(X_train.shape,X_test.shape,X_val.shape)\n",
        "print(X_train[range(5)])\n",
        "print(Y_train[range(5)])"
      ]
    }
  ],
  "metadata": {
    "colab": {
      "collapsed_sections": [],
      "name": "Practica_clase_3.ipynb",
      "provenance": []
    },
    "kernelspec": {
      "display_name": "Python 3.10.7 64-bit",
      "language": "python",
      "name": "python3"
    },
    "language_info": {
      "codemirror_mode": {
        "name": "ipython",
        "version": 3
      },
      "file_extension": ".py",
      "mimetype": "text/x-python",
      "name": "python",
      "nbconvert_exporter": "python",
      "pygments_lexer": "ipython3",
      "version": "3.10.11"
    },
    "vscode": {
      "interpreter": {
        "hash": "b5c22da4a52024410f64f9c5a5e2b4ffeeb944a5ed00e8825a42174cdab30315"
      }
    }
  },
  "nbformat": 4,
  "nbformat_minor": 5
}
